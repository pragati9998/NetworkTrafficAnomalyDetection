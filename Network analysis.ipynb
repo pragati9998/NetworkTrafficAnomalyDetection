{
 "cells": [
  {
   "cell_type": "code",
   "execution_count": 1,
   "id": "478a79b5",
   "metadata": {},
   "outputs": [],
   "source": [
    "import pandas as pd\n",
    "import numpy as np\n",
    "from sklearn.model_selection import train_test_split\n",
    "from sklearn.preprocessing import LabelEncoder, StandardScaler\n",
    "from sklearn.tree import DecisionTreeClassifier\n",
    "from sklearn.metrics import accuracy_score, classification_report, confusion_matrix\n",
    "import matplotlib.pyplot as plt\n",
    "import seaborn as sns\n"
   ]
  },
  {
   "cell_type": "code",
   "execution_count": 2,
   "id": "199b1b7c",
   "metadata": {},
   "outputs": [
    {
     "data": {
      "text/html": [
       "<div>\n",
       "<style scoped>\n",
       "    .dataframe tbody tr th:only-of-type {\n",
       "        vertical-align: middle;\n",
       "    }\n",
       "\n",
       "    .dataframe tbody tr th {\n",
       "        vertical-align: top;\n",
       "    }\n",
       "\n",
       "    .dataframe thead th {\n",
       "        text-align: right;\n",
       "    }\n",
       "</style>\n",
       "<table border=\"1\" class=\"dataframe\">\n",
       "  <thead>\n",
       "    <tr style=\"text-align: right;\">\n",
       "      <th></th>\n",
       "      <th>bytes_in</th>\n",
       "      <th>bytes_out</th>\n",
       "      <th>creation_time</th>\n",
       "      <th>end_time</th>\n",
       "      <th>src_ip</th>\n",
       "      <th>src_ip_country_code</th>\n",
       "      <th>protocol</th>\n",
       "      <th>response.code</th>\n",
       "      <th>dst_port</th>\n",
       "      <th>dst_ip</th>\n",
       "      <th>rule_names</th>\n",
       "      <th>observation_name</th>\n",
       "      <th>source.meta</th>\n",
       "      <th>source.name</th>\n",
       "      <th>time</th>\n",
       "      <th>detection_types</th>\n",
       "    </tr>\n",
       "  </thead>\n",
       "  <tbody>\n",
       "    <tr>\n",
       "      <th>0</th>\n",
       "      <td>5602</td>\n",
       "      <td>12990</td>\n",
       "      <td>2024-04-25T23:00:00Z</td>\n",
       "      <td>2024-04-25T23:10:00Z</td>\n",
       "      <td>147.161.161.82</td>\n",
       "      <td>AE</td>\n",
       "      <td>HTTPS</td>\n",
       "      <td>200</td>\n",
       "      <td>443</td>\n",
       "      <td>10.138.69.97</td>\n",
       "      <td>Suspicious Web Traffic</td>\n",
       "      <td>Adversary Infrastructure Interaction</td>\n",
       "      <td>AWS_VPC_Flow</td>\n",
       "      <td>prod_webserver</td>\n",
       "      <td>2024-04-25T23:00:00Z</td>\n",
       "      <td>waf_rule</td>\n",
       "    </tr>\n",
       "    <tr>\n",
       "      <th>1</th>\n",
       "      <td>30912</td>\n",
       "      <td>18186</td>\n",
       "      <td>2024-04-25T23:00:00Z</td>\n",
       "      <td>2024-04-25T23:10:00Z</td>\n",
       "      <td>165.225.33.6</td>\n",
       "      <td>US</td>\n",
       "      <td>HTTPS</td>\n",
       "      <td>200</td>\n",
       "      <td>443</td>\n",
       "      <td>10.138.69.97</td>\n",
       "      <td>Suspicious Web Traffic</td>\n",
       "      <td>Adversary Infrastructure Interaction</td>\n",
       "      <td>AWS_VPC_Flow</td>\n",
       "      <td>prod_webserver</td>\n",
       "      <td>2024-04-25T23:00:00Z</td>\n",
       "      <td>waf_rule</td>\n",
       "    </tr>\n",
       "    <tr>\n",
       "      <th>2</th>\n",
       "      <td>28506</td>\n",
       "      <td>13468</td>\n",
       "      <td>2024-04-25T23:00:00Z</td>\n",
       "      <td>2024-04-25T23:10:00Z</td>\n",
       "      <td>165.225.212.255</td>\n",
       "      <td>CA</td>\n",
       "      <td>HTTPS</td>\n",
       "      <td>200</td>\n",
       "      <td>443</td>\n",
       "      <td>10.138.69.97</td>\n",
       "      <td>Suspicious Web Traffic</td>\n",
       "      <td>Adversary Infrastructure Interaction</td>\n",
       "      <td>AWS_VPC_Flow</td>\n",
       "      <td>prod_webserver</td>\n",
       "      <td>2024-04-25T23:00:00Z</td>\n",
       "      <td>waf_rule</td>\n",
       "    </tr>\n",
       "    <tr>\n",
       "      <th>3</th>\n",
       "      <td>30546</td>\n",
       "      <td>14278</td>\n",
       "      <td>2024-04-25T23:00:00Z</td>\n",
       "      <td>2024-04-25T23:10:00Z</td>\n",
       "      <td>136.226.64.114</td>\n",
       "      <td>US</td>\n",
       "      <td>HTTPS</td>\n",
       "      <td>200</td>\n",
       "      <td>443</td>\n",
       "      <td>10.138.69.97</td>\n",
       "      <td>Suspicious Web Traffic</td>\n",
       "      <td>Adversary Infrastructure Interaction</td>\n",
       "      <td>AWS_VPC_Flow</td>\n",
       "      <td>prod_webserver</td>\n",
       "      <td>2024-04-25T23:00:00Z</td>\n",
       "      <td>waf_rule</td>\n",
       "    </tr>\n",
       "    <tr>\n",
       "      <th>4</th>\n",
       "      <td>6526</td>\n",
       "      <td>13892</td>\n",
       "      <td>2024-04-25T23:00:00Z</td>\n",
       "      <td>2024-04-25T23:10:00Z</td>\n",
       "      <td>165.225.240.79</td>\n",
       "      <td>NL</td>\n",
       "      <td>HTTPS</td>\n",
       "      <td>200</td>\n",
       "      <td>443</td>\n",
       "      <td>10.138.69.97</td>\n",
       "      <td>Suspicious Web Traffic</td>\n",
       "      <td>Adversary Infrastructure Interaction</td>\n",
       "      <td>AWS_VPC_Flow</td>\n",
       "      <td>prod_webserver</td>\n",
       "      <td>2024-04-25T23:00:00Z</td>\n",
       "      <td>waf_rule</td>\n",
       "    </tr>\n",
       "    <tr>\n",
       "      <th>...</th>\n",
       "      <td>...</td>\n",
       "      <td>...</td>\n",
       "      <td>...</td>\n",
       "      <td>...</td>\n",
       "      <td>...</td>\n",
       "      <td>...</td>\n",
       "      <td>...</td>\n",
       "      <td>...</td>\n",
       "      <td>...</td>\n",
       "      <td>...</td>\n",
       "      <td>...</td>\n",
       "      <td>...</td>\n",
       "      <td>...</td>\n",
       "      <td>...</td>\n",
       "      <td>...</td>\n",
       "      <td>...</td>\n",
       "    </tr>\n",
       "    <tr>\n",
       "      <th>277</th>\n",
       "      <td>41336</td>\n",
       "      <td>13180</td>\n",
       "      <td>2024-04-26T09:50:00Z</td>\n",
       "      <td>2024-04-26T10:00:00Z</td>\n",
       "      <td>136.226.77.103</td>\n",
       "      <td>CA</td>\n",
       "      <td>HTTPS</td>\n",
       "      <td>200</td>\n",
       "      <td>443</td>\n",
       "      <td>10.138.69.97</td>\n",
       "      <td>Suspicious Web Traffic</td>\n",
       "      <td>Adversary Infrastructure Interaction</td>\n",
       "      <td>AWS_VPC_Flow</td>\n",
       "      <td>prod_webserver</td>\n",
       "      <td>2024-04-26T09:50:00Z</td>\n",
       "      <td>waf_rule</td>\n",
       "    </tr>\n",
       "    <tr>\n",
       "      <th>278</th>\n",
       "      <td>3638</td>\n",
       "      <td>3190</td>\n",
       "      <td>2024-04-26T09:50:00Z</td>\n",
       "      <td>2024-04-26T10:00:00Z</td>\n",
       "      <td>165.225.26.101</td>\n",
       "      <td>DE</td>\n",
       "      <td>HTTPS</td>\n",
       "      <td>200</td>\n",
       "      <td>443</td>\n",
       "      <td>10.138.69.97</td>\n",
       "      <td>Suspicious Web Traffic</td>\n",
       "      <td>Adversary Infrastructure Interaction</td>\n",
       "      <td>AWS_VPC_Flow</td>\n",
       "      <td>prod_webserver</td>\n",
       "      <td>2024-04-26T09:50:00Z</td>\n",
       "      <td>waf_rule</td>\n",
       "    </tr>\n",
       "    <tr>\n",
       "      <th>279</th>\n",
       "      <td>25207794</td>\n",
       "      <td>1561220</td>\n",
       "      <td>2024-04-26T09:50:00Z</td>\n",
       "      <td>2024-04-26T10:00:00Z</td>\n",
       "      <td>155.91.45.242</td>\n",
       "      <td>US</td>\n",
       "      <td>HTTPS</td>\n",
       "      <td>200</td>\n",
       "      <td>443</td>\n",
       "      <td>10.138.69.97</td>\n",
       "      <td>Suspicious Web Traffic</td>\n",
       "      <td>Adversary Infrastructure Interaction</td>\n",
       "      <td>AWS_VPC_Flow</td>\n",
       "      <td>prod_webserver</td>\n",
       "      <td>2024-04-26T09:50:00Z</td>\n",
       "      <td>waf_rule</td>\n",
       "    </tr>\n",
       "    <tr>\n",
       "      <th>280</th>\n",
       "      <td>5736</td>\n",
       "      <td>12114</td>\n",
       "      <td>2024-04-26T09:50:00Z</td>\n",
       "      <td>2024-04-26T10:00:00Z</td>\n",
       "      <td>165.225.209.4</td>\n",
       "      <td>CA</td>\n",
       "      <td>HTTPS</td>\n",
       "      <td>200</td>\n",
       "      <td>443</td>\n",
       "      <td>10.138.69.97</td>\n",
       "      <td>Suspicious Web Traffic</td>\n",
       "      <td>Adversary Infrastructure Interaction</td>\n",
       "      <td>AWS_VPC_Flow</td>\n",
       "      <td>prod_webserver</td>\n",
       "      <td>2024-04-26T09:50:00Z</td>\n",
       "      <td>waf_rule</td>\n",
       "    </tr>\n",
       "    <tr>\n",
       "      <th>281</th>\n",
       "      <td>9032</td>\n",
       "      <td>5862</td>\n",
       "      <td>2024-04-26T09:50:00Z</td>\n",
       "      <td>2024-04-26T10:00:00Z</td>\n",
       "      <td>147.161.131.1</td>\n",
       "      <td>AT</td>\n",
       "      <td>HTTPS</td>\n",
       "      <td>200</td>\n",
       "      <td>443</td>\n",
       "      <td>10.138.69.97</td>\n",
       "      <td>Suspicious Web Traffic</td>\n",
       "      <td>Adversary Infrastructure Interaction</td>\n",
       "      <td>AWS_VPC_Flow</td>\n",
       "      <td>prod_webserver</td>\n",
       "      <td>2024-04-26T09:50:00Z</td>\n",
       "      <td>waf_rule</td>\n",
       "    </tr>\n",
       "  </tbody>\n",
       "</table>\n",
       "<p>282 rows × 16 columns</p>\n",
       "</div>"
      ],
      "text/plain": [
       "     bytes_in  bytes_out         creation_time              end_time  \\\n",
       "0        5602      12990  2024-04-25T23:00:00Z  2024-04-25T23:10:00Z   \n",
       "1       30912      18186  2024-04-25T23:00:00Z  2024-04-25T23:10:00Z   \n",
       "2       28506      13468  2024-04-25T23:00:00Z  2024-04-25T23:10:00Z   \n",
       "3       30546      14278  2024-04-25T23:00:00Z  2024-04-25T23:10:00Z   \n",
       "4        6526      13892  2024-04-25T23:00:00Z  2024-04-25T23:10:00Z   \n",
       "..        ...        ...                   ...                   ...   \n",
       "277     41336      13180  2024-04-26T09:50:00Z  2024-04-26T10:00:00Z   \n",
       "278      3638       3190  2024-04-26T09:50:00Z  2024-04-26T10:00:00Z   \n",
       "279  25207794    1561220  2024-04-26T09:50:00Z  2024-04-26T10:00:00Z   \n",
       "280      5736      12114  2024-04-26T09:50:00Z  2024-04-26T10:00:00Z   \n",
       "281      9032       5862  2024-04-26T09:50:00Z  2024-04-26T10:00:00Z   \n",
       "\n",
       "              src_ip src_ip_country_code protocol  response.code  dst_port  \\\n",
       "0     147.161.161.82                  AE    HTTPS            200       443   \n",
       "1       165.225.33.6                  US    HTTPS            200       443   \n",
       "2    165.225.212.255                  CA    HTTPS            200       443   \n",
       "3     136.226.64.114                  US    HTTPS            200       443   \n",
       "4     165.225.240.79                  NL    HTTPS            200       443   \n",
       "..               ...                 ...      ...            ...       ...   \n",
       "277   136.226.77.103                  CA    HTTPS            200       443   \n",
       "278   165.225.26.101                  DE    HTTPS            200       443   \n",
       "279    155.91.45.242                  US    HTTPS            200       443   \n",
       "280    165.225.209.4                  CA    HTTPS            200       443   \n",
       "281    147.161.131.1                  AT    HTTPS            200       443   \n",
       "\n",
       "           dst_ip              rule_names  \\\n",
       "0    10.138.69.97  Suspicious Web Traffic   \n",
       "1    10.138.69.97  Suspicious Web Traffic   \n",
       "2    10.138.69.97  Suspicious Web Traffic   \n",
       "3    10.138.69.97  Suspicious Web Traffic   \n",
       "4    10.138.69.97  Suspicious Web Traffic   \n",
       "..            ...                     ...   \n",
       "277  10.138.69.97  Suspicious Web Traffic   \n",
       "278  10.138.69.97  Suspicious Web Traffic   \n",
       "279  10.138.69.97  Suspicious Web Traffic   \n",
       "280  10.138.69.97  Suspicious Web Traffic   \n",
       "281  10.138.69.97  Suspicious Web Traffic   \n",
       "\n",
       "                         observation_name   source.meta     source.name  \\\n",
       "0    Adversary Infrastructure Interaction  AWS_VPC_Flow  prod_webserver   \n",
       "1    Adversary Infrastructure Interaction  AWS_VPC_Flow  prod_webserver   \n",
       "2    Adversary Infrastructure Interaction  AWS_VPC_Flow  prod_webserver   \n",
       "3    Adversary Infrastructure Interaction  AWS_VPC_Flow  prod_webserver   \n",
       "4    Adversary Infrastructure Interaction  AWS_VPC_Flow  prod_webserver   \n",
       "..                                    ...           ...             ...   \n",
       "277  Adversary Infrastructure Interaction  AWS_VPC_Flow  prod_webserver   \n",
       "278  Adversary Infrastructure Interaction  AWS_VPC_Flow  prod_webserver   \n",
       "279  Adversary Infrastructure Interaction  AWS_VPC_Flow  prod_webserver   \n",
       "280  Adversary Infrastructure Interaction  AWS_VPC_Flow  prod_webserver   \n",
       "281  Adversary Infrastructure Interaction  AWS_VPC_Flow  prod_webserver   \n",
       "\n",
       "                     time detection_types  \n",
       "0    2024-04-25T23:00:00Z        waf_rule  \n",
       "1    2024-04-25T23:00:00Z        waf_rule  \n",
       "2    2024-04-25T23:00:00Z        waf_rule  \n",
       "3    2024-04-25T23:00:00Z        waf_rule  \n",
       "4    2024-04-25T23:00:00Z        waf_rule  \n",
       "..                    ...             ...  \n",
       "277  2024-04-26T09:50:00Z        waf_rule  \n",
       "278  2024-04-26T09:50:00Z        waf_rule  \n",
       "279  2024-04-26T09:50:00Z        waf_rule  \n",
       "280  2024-04-26T09:50:00Z        waf_rule  \n",
       "281  2024-04-26T09:50:00Z        waf_rule  \n",
       "\n",
       "[282 rows x 16 columns]"
      ]
     },
     "execution_count": 2,
     "metadata": {},
     "output_type": "execute_result"
    }
   ],
   "source": [
    "#loading the dataset\n",
    "df = pd.read_csv(\"CloudWatch_Traffic_Web_Attack.csv\")\n",
    "df"
   ]
  },
  {
   "cell_type": "code",
   "execution_count": 3,
   "id": "5f4b3eb7",
   "metadata": {
    "scrolled": true
   },
   "outputs": [
    {
     "name": "stdout",
     "output_type": "stream",
     "text": [
      "   bytes_in  bytes_out         creation_time              end_time  \\\n",
      "0      5602      12990  2024-04-25T23:00:00Z  2024-04-25T23:10:00Z   \n",
      "1     30912      18186  2024-04-25T23:00:00Z  2024-04-25T23:10:00Z   \n",
      "2     28506      13468  2024-04-25T23:00:00Z  2024-04-25T23:10:00Z   \n",
      "3     30546      14278  2024-04-25T23:00:00Z  2024-04-25T23:10:00Z   \n",
      "4      6526      13892  2024-04-25T23:00:00Z  2024-04-25T23:10:00Z   \n",
      "\n",
      "            src_ip src_ip_country_code protocol  response.code  dst_port  \\\n",
      "0   147.161.161.82                  AE    HTTPS            200       443   \n",
      "1     165.225.33.6                  US    HTTPS            200       443   \n",
      "2  165.225.212.255                  CA    HTTPS            200       443   \n",
      "3   136.226.64.114                  US    HTTPS            200       443   \n",
      "4   165.225.240.79                  NL    HTTPS            200       443   \n",
      "\n",
      "         dst_ip              rule_names                      observation_name  \\\n",
      "0  10.138.69.97  Suspicious Web Traffic  Adversary Infrastructure Interaction   \n",
      "1  10.138.69.97  Suspicious Web Traffic  Adversary Infrastructure Interaction   \n",
      "2  10.138.69.97  Suspicious Web Traffic  Adversary Infrastructure Interaction   \n",
      "3  10.138.69.97  Suspicious Web Traffic  Adversary Infrastructure Interaction   \n",
      "4  10.138.69.97  Suspicious Web Traffic  Adversary Infrastructure Interaction   \n",
      "\n",
      "    source.meta     source.name                  time detection_types  \n",
      "0  AWS_VPC_Flow  prod_webserver  2024-04-25T23:00:00Z        waf_rule  \n",
      "1  AWS_VPC_Flow  prod_webserver  2024-04-25T23:00:00Z        waf_rule  \n",
      "2  AWS_VPC_Flow  prod_webserver  2024-04-25T23:00:00Z        waf_rule  \n",
      "3  AWS_VPC_Flow  prod_webserver  2024-04-25T23:00:00Z        waf_rule  \n",
      "4  AWS_VPC_Flow  prod_webserver  2024-04-25T23:00:00Z        waf_rule  \n"
     ]
    }
   ],
   "source": [
    "# Display the first few rows of the dataframe\n",
    "print(df.head())\n"
   ]
  },
  {
   "cell_type": "code",
   "execution_count": 4,
   "id": "598898d8",
   "metadata": {},
   "outputs": [
    {
     "name": "stdout",
     "output_type": "stream",
     "text": [
      "           bytes_in     bytes_out  response.code  dst_port\n",
      "count  2.820000e+02  2.820000e+02          282.0     282.0\n",
      "mean   1.199390e+06  8.455429e+04          200.0     443.0\n",
      "std    4.149312e+06  2.549279e+05            0.0       0.0\n",
      "min    4.000000e+01  4.400000e+01          200.0     443.0\n",
      "25%    5.381500e+03  1.114200e+04          200.0     443.0\n",
      "50%    1.318200e+04  1.379950e+04          200.0     443.0\n",
      "75%    3.083300e+04  2.627950e+04          200.0     443.0\n",
      "max    2.520779e+07  1.561220e+06          200.0     443.0\n"
     ]
    }
   ],
   "source": [
    "# Display summary statistics of the dataframe\n",
    "print(df.describe())"
   ]
  },
  {
   "cell_type": "code",
   "execution_count": 28,
   "id": "f6871954",
   "metadata": {},
   "outputs": [
    {
     "name": "stdout",
     "output_type": "stream",
     "text": [
      "<class 'pandas.core.frame.DataFrame'>\n",
      "RangeIndex: 282 entries, 0 to 281\n",
      "Data columns (total 16 columns):\n",
      " #   Column               Non-Null Count  Dtype \n",
      "---  ------               --------------  ----- \n",
      " 0   bytes_in             282 non-null    int64 \n",
      " 1   bytes_out            282 non-null    int64 \n",
      " 2   creation_time        282 non-null    object\n",
      " 3   end_time             282 non-null    object\n",
      " 4   src_ip               282 non-null    object\n",
      " 5   src_ip_country_code  282 non-null    object\n",
      " 6   protocol             282 non-null    object\n",
      " 7   response.code        282 non-null    int64 \n",
      " 8   dst_port             282 non-null    int64 \n",
      " 9   dst_ip               282 non-null    object\n",
      " 10  rule_names           282 non-null    object\n",
      " 11  observation_name     282 non-null    object\n",
      " 12  source.meta          282 non-null    object\n",
      " 13  source.name          282 non-null    object\n",
      " 14  time                 282 non-null    object\n",
      " 15  detection_types      282 non-null    object\n",
      "dtypes: int64(4), object(12)\n",
      "memory usage: 35.4+ KB\n",
      "None\n"
     ]
    }
   ],
   "source": [
    "# Display the information of the dataframe\n",
    "print(df.info())"
   ]
  },
  {
   "cell_type": "markdown",
   "id": "41bcd363",
   "metadata": {},
   "source": [
    "# Data cleaning"
   ]
  },
  {
   "cell_type": "code",
   "execution_count": 11,
   "id": "872ccba7",
   "metadata": {},
   "outputs": [
    {
     "name": "stdout",
     "output_type": "stream",
     "text": [
      "bytes_in               0\n",
      "bytes_out              0\n",
      "creation_time          0\n",
      "end_time               0\n",
      "src_ip                 0\n",
      "src_ip_country_code    0\n",
      "protocol               0\n",
      "response.code          0\n",
      "dst_port               0\n",
      "dst_ip                 0\n",
      "rule_names             0\n",
      "observation_name       0\n",
      "source.meta            0\n",
      "source.name            0\n",
      "time                   0\n",
      "detection_types        0\n",
      "dtype: int64\n"
     ]
    }
   ],
   "source": [
    "# Check for missing values\n",
    "print(df.isnull().sum())"
   ]
  },
  {
   "cell_type": "code",
   "execution_count": 30,
   "id": "4a1b369b",
   "metadata": {},
   "outputs": [],
   "source": [
    "# Handle missing values (example: filling with mean for numerical columns)\n",
    "for column in df.select_dtypes(include=['float64', 'int64']).columns:\n",
    "    df[column].fillna(df[column].mean(), inplace=True)\n",
    "    \n",
    "    # Handle missing values for categorical columns (example: filling with mode)\n",
    "for column in df.select_dtypes(include=['object']).columns:\n",
    "    df[column].fillna(df[column].mode()[0], inplace=True)"
   ]
  },
  {
   "cell_type": "markdown",
   "id": "e36b8886",
   "metadata": {},
   "source": [
    "# Data preprocessing"
   ]
  },
  {
   "cell_type": "code",
   "execution_count": 31,
   "id": "5d1e7989",
   "metadata": {},
   "outputs": [],
   "source": [
    "# Convert categorical variables to numerical variables using Label Encoding\n",
    "label_encoders = {}\n",
    "for column in df.select_dtypes(include=['object']).columns:\n",
    "    label_encoders[column] = LabelEncoder()\n",
    "    df[column] = label_encoders[column].fit_transform(df[column])"
   ]
  },
  {
   "cell_type": "markdown",
   "id": "6a9bbf31",
   "metadata": {},
   "source": [
    "# Feature scaling"
   ]
  },
  {
   "cell_type": "code",
   "execution_count": 32,
   "id": "7e87a5b8",
   "metadata": {},
   "outputs": [],
   "source": [
    "scaler = StandardScaler()\n",
    "numerical_columns = df.select_dtypes(include=['float64', 'int64']).columns\n",
    "df[numerical_columns] = scaler.fit_transform(df[numerical_columns])"
   ]
  },
  {
   "cell_type": "markdown",
   "id": "472b8352",
   "metadata": {},
   "source": []
  },
  {
   "cell_type": "code",
   "execution_count": 33,
   "id": "5740b564",
   "metadata": {},
   "outputs": [
    {
     "name": "stdout",
     "output_type": "stream",
     "text": [
      "\n",
      "Columns after preprocessing:\n",
      "Index(['bytes_in', 'bytes_out', 'creation_time', 'end_time', 'src_ip',\n",
      "       'src_ip_country_code', 'protocol', 'response.code', 'dst_port',\n",
      "       'dst_ip', 'rule_names', 'observation_name', 'source.meta',\n",
      "       'source.name', 'time', 'detection_types'],\n",
      "      dtype='object')\n"
     ]
    }
   ],
   "source": [
    "# Check the column names after preprocessing\n",
    "print(\"\\nColumns after preprocessing:\")\n",
    "print(df.columns)"
   ]
  },
  {
   "cell_type": "code",
   "execution_count": 70,
   "id": "6a6db625",
   "metadata": {},
   "outputs": [],
   "source": [
    "# Define features (X) and target (y)\n",
    "X = df.drop('response.code', axis=1)  # Features\n",
    "y = df['response.code']  # Target"
   ]
  },
  {
   "cell_type": "code",
   "execution_count": 71,
   "id": "91a8e18b",
   "metadata": {},
   "outputs": [],
   "source": [
    "# Split the dataset into training and testing sets\n",
    "X_train, X_test, y_train, y_test = train_test_split(X, y, test_size=0.2, random_state=42)"
   ]
  },
  {
   "cell_type": "code",
   "execution_count": 72,
   "id": "5c8c2b61",
   "metadata": {},
   "outputs": [],
   "source": [
    "# Initialize the model\n",
    "model = DecisionTreeClassifier(random_state=42)"
   ]
  },
  {
   "cell_type": "code",
   "execution_count": 73,
   "id": "73a73e70",
   "metadata": {},
   "outputs": [
    {
     "data": {
      "text/html": [
       "<style>#sk-container-id-5 {color: black;background-color: white;}#sk-container-id-5 pre{padding: 0;}#sk-container-id-5 div.sk-toggleable {background-color: white;}#sk-container-id-5 label.sk-toggleable__label {cursor: pointer;display: block;width: 100%;margin-bottom: 0;padding: 0.3em;box-sizing: border-box;text-align: center;}#sk-container-id-5 label.sk-toggleable__label-arrow:before {content: \"▸\";float: left;margin-right: 0.25em;color: #696969;}#sk-container-id-5 label.sk-toggleable__label-arrow:hover:before {color: black;}#sk-container-id-5 div.sk-estimator:hover label.sk-toggleable__label-arrow:before {color: black;}#sk-container-id-5 div.sk-toggleable__content {max-height: 0;max-width: 0;overflow: hidden;text-align: left;background-color: #f0f8ff;}#sk-container-id-5 div.sk-toggleable__content pre {margin: 0.2em;color: black;border-radius: 0.25em;background-color: #f0f8ff;}#sk-container-id-5 input.sk-toggleable__control:checked~div.sk-toggleable__content {max-height: 200px;max-width: 100%;overflow: auto;}#sk-container-id-5 input.sk-toggleable__control:checked~label.sk-toggleable__label-arrow:before {content: \"▾\";}#sk-container-id-5 div.sk-estimator input.sk-toggleable__control:checked~label.sk-toggleable__label {background-color: #d4ebff;}#sk-container-id-5 div.sk-label input.sk-toggleable__control:checked~label.sk-toggleable__label {background-color: #d4ebff;}#sk-container-id-5 input.sk-hidden--visually {border: 0;clip: rect(1px 1px 1px 1px);clip: rect(1px, 1px, 1px, 1px);height: 1px;margin: -1px;overflow: hidden;padding: 0;position: absolute;width: 1px;}#sk-container-id-5 div.sk-estimator {font-family: monospace;background-color: #f0f8ff;border: 1px dotted black;border-radius: 0.25em;box-sizing: border-box;margin-bottom: 0.5em;}#sk-container-id-5 div.sk-estimator:hover {background-color: #d4ebff;}#sk-container-id-5 div.sk-parallel-item::after {content: \"\";width: 100%;border-bottom: 1px solid gray;flex-grow: 1;}#sk-container-id-5 div.sk-label:hover label.sk-toggleable__label {background-color: #d4ebff;}#sk-container-id-5 div.sk-serial::before {content: \"\";position: absolute;border-left: 1px solid gray;box-sizing: border-box;top: 0;bottom: 0;left: 50%;z-index: 0;}#sk-container-id-5 div.sk-serial {display: flex;flex-direction: column;align-items: center;background-color: white;padding-right: 0.2em;padding-left: 0.2em;position: relative;}#sk-container-id-5 div.sk-item {position: relative;z-index: 1;}#sk-container-id-5 div.sk-parallel {display: flex;align-items: stretch;justify-content: center;background-color: white;position: relative;}#sk-container-id-5 div.sk-item::before, #sk-container-id-5 div.sk-parallel-item::before {content: \"\";position: absolute;border-left: 1px solid gray;box-sizing: border-box;top: 0;bottom: 0;left: 50%;z-index: -1;}#sk-container-id-5 div.sk-parallel-item {display: flex;flex-direction: column;z-index: 1;position: relative;background-color: white;}#sk-container-id-5 div.sk-parallel-item:first-child::after {align-self: flex-end;width: 50%;}#sk-container-id-5 div.sk-parallel-item:last-child::after {align-self: flex-start;width: 50%;}#sk-container-id-5 div.sk-parallel-item:only-child::after {width: 0;}#sk-container-id-5 div.sk-dashed-wrapped {border: 1px dashed gray;margin: 0 0.4em 0.5em 0.4em;box-sizing: border-box;padding-bottom: 0.4em;background-color: white;}#sk-container-id-5 div.sk-label label {font-family: monospace;font-weight: bold;display: inline-block;line-height: 1.2em;}#sk-container-id-5 div.sk-label-container {text-align: center;}#sk-container-id-5 div.sk-container {/* jupyter's `normalize.less` sets `[hidden] { display: none; }` but bootstrap.min.css set `[hidden] { display: none !important; }` so we also need the `!important` here to be able to override the default hidden behavior on the sphinx rendered scikit-learn.org. See: https://github.com/scikit-learn/scikit-learn/issues/21755 */display: inline-block !important;position: relative;}#sk-container-id-5 div.sk-text-repr-fallback {display: none;}</style><div id=\"sk-container-id-5\" class=\"sk-top-container\"><div class=\"sk-text-repr-fallback\"><pre>DecisionTreeClassifier(random_state=42)</pre><b>In a Jupyter environment, please rerun this cell to show the HTML representation or trust the notebook. <br />On GitHub, the HTML representation is unable to render, please try loading this page with nbviewer.org.</b></div><div class=\"sk-container\" hidden><div class=\"sk-item\"><div class=\"sk-estimator sk-toggleable\"><input class=\"sk-toggleable__control sk-hidden--visually\" id=\"sk-estimator-id-5\" type=\"checkbox\" checked><label for=\"sk-estimator-id-5\" class=\"sk-toggleable__label sk-toggleable__label-arrow\">DecisionTreeClassifier</label><div class=\"sk-toggleable__content\"><pre>DecisionTreeClassifier(random_state=42)</pre></div></div></div></div></div>"
      ],
      "text/plain": [
       "DecisionTreeClassifier(random_state=42)"
      ]
     },
     "execution_count": 73,
     "metadata": {},
     "output_type": "execute_result"
    }
   ],
   "source": [
    "# Train the model\n",
    "model.fit(X_train, y_train)"
   ]
  },
  {
   "cell_type": "code",
   "execution_count": 74,
   "id": "b0ef10cd",
   "metadata": {},
   "outputs": [],
   "source": [
    "# Make predictions\n",
    "y_pred = model.predict(X_test)"
   ]
  },
  {
   "cell_type": "code",
   "execution_count": 75,
   "id": "242a88d5",
   "metadata": {},
   "outputs": [
    {
     "name": "stdout",
     "output_type": "stream",
     "text": [
      "Accuracy: 1.00\n"
     ]
    }
   ],
   "source": [
    "# Evaluate the model\n",
    "accuracy = accuracy_score(y_test, y_pred)\n",
    "print(f'Accuracy: {accuracy:.2f}')"
   ]
  },
  {
   "cell_type": "code",
   "execution_count": 76,
   "id": "ac7606cc",
   "metadata": {},
   "outputs": [
    {
     "name": "stdout",
     "output_type": "stream",
     "text": [
      "Classification Report:\n",
      "              precision    recall  f1-score   support\n",
      "\n",
      "         0.0       1.00      1.00      1.00        57\n",
      "\n",
      "    accuracy                           1.00        57\n",
      "   macro avg       1.00      1.00      1.00        57\n",
      "weighted avg       1.00      1.00      1.00        57\n",
      "\n"
     ]
    }
   ],
   "source": [
    "\n",
    "print('Classification Report:')\n",
    "print(classification_report(y_test, y_pred))"
   ]
  },
  {
   "cell_type": "code",
   "execution_count": 77,
   "id": "7ec96b65",
   "metadata": {},
   "outputs": [
    {
     "name": "stdout",
     "output_type": "stream",
     "text": [
      "Confusion Matrix:\n",
      "[[57]]\n"
     ]
    }
   ],
   "source": [
    "print('Confusion Matrix:')\n",
    "conf_matrix = confusion_matrix(y_test, y_pred)\n",
    "print(conf_matrix)"
   ]
  },
  {
   "cell_type": "code",
   "execution_count": 78,
   "id": "6f267a25",
   "metadata": {},
   "outputs": [
    {
     "data": {
      "image/png": "[encoded data removed]",
      "text/plain": [
       "<Figure size 1000x700 with 2 Axes>"
      ]
     },
     "metadata": {},
     "output_type": "display_data"
    }
   ],
   "source": [
    "# Plot confusion matrix\n",
    "plt.figure(figsize=(10, 7))\n",
    "sns.heatmap(conf_matrix, annot=True, fmt='d', cmap='Blues')\n",
    "plt.xlabel('Predicted')\n",
    "plt.ylabel('Actual')\n",
    "plt.title('Confusion Matrix')\n",
    "plt.show()"
   ]
  },
  {
   "cell_type": "code",
   "execution_count": null,
   "id": "2983f32d",
   "metadata": {},
   "outputs": [],
   "source": []
  }
 ],
 "metadata": {
  "kernelspec": {
   "display_name": "Python 3 (ipykernel)",
   "language": "python",
   "name": "python3"
  },
  "language_info": {
   "codemirror_mode": {
    "name": "ipython",
    "version": 3
   },
   "file_extension": ".py",
   "mimetype": "text/x-python",
   "name": "python",
   "nbconvert_exporter": "python",
   "pygments_lexer": "ipython3",
   "version": "3.9.9"
  }
 },
 "nbformat": 4,
 "nbformat_minor": 5
}
